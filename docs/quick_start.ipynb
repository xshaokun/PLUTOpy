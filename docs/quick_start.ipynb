{
 "cells": [
  {
   "cell_type": "markdown",
   "source": [
    "# 使用教程\n",
    "\n",
    "`pluto.py`中主要定义了一些类，用于方便读取和处理pluto产生的数据。\n",
    "\n",
    "使用它之前需要保证你已经安装了以下python模块：\n",
    "* fire\n",
    "* numpy\n",
    "* pandas\n",
    "* astropy\n",
    "* matplotlib\n",
    "\n",
    "如果没有的话请执行以下命令："
   ],
   "metadata": {}
  },
  {
   "cell_type": "code",
   "execution_count": null,
   "source": [
    "# 根据 requirements.txt文件中所罗列的包，首先使用conda安装，conda如果无法安装就用pip安装\n",
    "! while read requirement; do conda install --yes $requirement || pip install $requirement; done < requirements.txt"
   ],
   "outputs": [],
   "metadata": {}
  },
  {
   "cell_type": "markdown",
   "source": [
    "## 声明环境\n",
    "\n",
    "假定你获取的是整个`skpy`模块包，其中包含了`pluto`模块，即`pluto.py`文件，首先要将`skpy`所在的绝对路径添加到python环境中，将以下路径改成你自己的对应路径。"
   ],
   "metadata": {}
  },
  {
   "cell_type": "code",
   "execution_count": null,
   "source": [
    "import sys\n",
    "sys.path.append(\"/Users/xshaokun/Apps/PyMod\")\n",
    "\n",
    "# 声明 $SKPY 指向 skpy 所在的路径\n",
    "! echo 'export SKPY=\"$HOME/Apps/PyMod/skpy\"' >> ~/.bash_profile"
   ],
   "outputs": [],
   "metadata": {}
  },
  {
   "cell_type": "markdown",
   "source": [
    "## 导入"
   ],
   "metadata": {}
  },
  {
   "cell_type": "code",
   "execution_count": 9,
   "source": [
    "import skpy.pluto as pl"
   ],
   "outputs": [],
   "metadata": {}
  },
  {
   "cell_type": "markdown",
   "source": [
    "## 快速画图预览结果\n",
    "\n",
    "可以直接在终端用python运行`pluto.py`来快速画图，便于快速预览模拟的结果，当然需要给定一些参数，具体格式如下\n",
    "\n",
    "    python $SKPY/pluto.py --选项=值 画图函数 数据序列 物理量 --选项=值 - 操作\n",
    "\n",
    "这样看可能有点复杂，可以先尝试最简单的例子，在你的数据所在目录下执行：\n",
    "\n",
    "    python $SKPY/pluto.py display 0 rho - show\n",
    "\n",
    "如果你的模拟是二维的，那么就可以成功画出初始时刻对应的密度分布图。\n",
    "\n",
    "和前面的格式比较一下，由于这里没有包含任何选项，可以看出每个必要参数分别代表什么。\n",
    "* 画图函数：目前有二维图函数`display`和一维图函数`line`\n",
    "* 数据序列：也就是数据对应的编号。可以是*整数编号*；也可以是*浮点数*对应大致的时间，如1.2，会选择对应时间最近的数据来画图；也可以是*负数*，选取最后一个数据\n",
    "* 物理量：模拟输出的物理量\n",
    "* 操作：包括：`show`直接跳出窗口显示，`save`会默认保存到当前路径下，文件名为`物理量+数据序列-文件夹名.jpg`，或者通过选项`--name`，指定文件名\n",
    "\n",
    "需要注意`show`前面的单横线不可忽略，也不能和选项前面的双横线混淆。\n",
    "\n",
    "### 选项说明\n",
    "\n",
    "跟在`pluto.py`后面的选项包括：\n",
    "* `wdir`:指定路径，默认值为`./`，指向当前路径\n",
    "* `datatype`:数据格式，默认值为`vtk`\n",
    "\n",
    "跟在物理量后面的选项传递给画图函数使用，具体见下面的原理讲解来理解吧"
   ],
   "metadata": {}
  },
  {
   "cell_type": "markdown",
   "source": [
    "### 原理讲解\n",
    "\n",
    "之所以能通过直接运行`pluto.py`来画图是使用了`fire`模块的功能，能让我们将命令行参数传递给python脚本中定义的函数，作为函数的参数并执行。\n",
    "\n",
    "在`pluto.py`中，定义了一个`Preview`类，因此跟在`pluto.py`后面的选项就会传递给它的`__init__`函数，用于初始化这个类。\n",
    "\n",
    "后面调用的画图函数也是`Preview`类中定义的方法，后面跟的数据序列和物理量也都是函数需要的必要参数，函数关键字则对应后面的选项，具体可用的关键字选项可以参考函数的文档说明。"
   ],
   "metadata": {}
  },
  {
   "cell_type": "markdown",
   "source": [
    "## 读取数据"
   ],
   "metadata": {}
  },
  {
   "cell_type": "code",
   "execution_count": 10,
   "source": [
    "# 指定路径和数据格式\n",
    "ds = pl.Dataset('/Users/xshaokun/Desktop/sph',datatype='dbl')\n",
    "ds.info()  # 查看基本信息，可以知道这是二维球坐标模拟，以及模拟使用的单位"
   ],
   "outputs": [
    {
     "output_type": "stream",
     "name": "stdout",
     "text": [
      "wdir           :  /Users/xshaokun/Desktop/sph/\n",
      "init_file      :  pluto.ini\n",
      "datatype       :  dbl\n",
      "filetype       :  single_file\n",
      "endianess      :  little\n",
      "geometry       :  SPHERICAL\n",
      "ndim           :  2\n",
      "code_unit      :  {'code_density': <Quantity 1.67262171e-24 g / cm3>, 'code_length': <Quantity 3.08e+21 cm>, 'code_velocity': <Quantity 10000000. cm / s>}\n",
      "field_list     :  ['rho', 'vx1', 'vx2', 'vx3', 'prs']\n",
      "derived_fields :  {}\n"
     ]
    }
   ],
   "metadata": {}
  },
  {
   "cell_type": "markdown",
   "source": [
    "`ds`可以通过像列表一样的方式来访问数据。但是像前面讲的一样，这里的索引不仅可以使用正整数，也可以使用浮点数代表大致时间（访问最近的数据），也可以使用负数访问最后一个数据。"
   ],
   "metadata": {}
  },
  {
   "cell_type": "code",
   "execution_count": 11,
   "source": [
    "# 读取最后一个输出数据\n",
    "ss = ds[-1]\n",
    "ss.info() # 查看基本信息，可知这是第4个输出数据，对应时间为1.998521"
   ],
   "outputs": [
    {
     "output_type": "stream",
     "name": "stdout",
     "text": [
      "Reading single data file : /Users/xshaokun/Desktop/sph/data.0004.dbl\n",
      "nstep          :  4\n",
      "time           :  1.998521\n",
      "dt             :  0.002890662\n",
      "is_quantity    :  False\n"
     ]
    }
   ],
   "metadata": {}
  },
  {
   "cell_type": "markdown",
   "source": [
    "相关的数据分别以字典的形式保存在以下属性中：\n",
    "* index: 每个方向的网格数信息\n",
    "* coord: 每个方向的坐标信息，一维数组\n",
    "* grid: 多维的坐标数组\n",
    "* fields: 多维的物理量数组\n",
    "\n",
    "每个字典可以调用的键值信息如下："
   ],
   "metadata": {}
  },
  {
   "cell_type": "code",
   "execution_count": 14,
   "source": [
    "print(ss.index.keys())\n",
    "print(ss.coord.keys())\n",
    "print(ss.grid.keys())\n",
    "print(ss.fields.keys())"
   ],
   "outputs": [
    {
     "output_type": "stream",
     "name": "stdout",
     "text": [
      "dict_keys(['n1', 'n2', 'n3', 'n1_tot', 'n2_tot', 'n3_tot'])\n",
      "dict_keys(['x1', 'x2', 'x3', 'dx1', 'dx2', 'dx3', 'x1r', 'x2r', 'x3r'])\n",
      "dict_keys(['x1', 'x2', 'x3', 'dx1', 'dx2', 'dx3', 'x1r', 'x2r', 'x3r'])\n",
      "dict_keys(['rho', 'vx1', 'vx2', 'vx3', 'prs'])\n"
     ]
    }
   ],
   "metadata": {}
  },
  {
   "cell_type": "markdown",
   "source": [
    "## 数据切片"
   ],
   "metadata": {}
  },
  {
   "cell_type": "code",
   "execution_count": 18,
   "source": [
    "rho = ss.fields['rho']\n",
    "rho.shape"
   ],
   "outputs": [
    {
     "output_type": "execute_result",
     "data": {
      "text/plain": [
       "(10, 100)"
      ]
     },
     "metadata": {},
     "execution_count": 18
    }
   ],
   "metadata": {}
  },
  {
   "cell_type": "markdown",
   "source": [
    "得到的密度是一个二维数据，但如果我们想知道在$\\theta=\\pi/2$处，密度随半径的变化，可以使用`.slice1d()`方法："
   ],
   "metadata": {}
  },
  {
   "cell_type": "code",
   "execution_count": 21,
   "source": [
    "import numpy as np\n",
    "rho1d = ss.slice1d('rho', x2=np.pi/2)  # 切片，得到第二维度theta=pi/2处的密度\n",
    "rho1d.shape"
   ],
   "outputs": [
    {
     "output_type": "execute_result",
     "data": {
      "text/plain": [
       "(100,)"
      ]
     },
     "metadata": {},
     "execution_count": 21
    }
   ],
   "metadata": {}
  },
  {
   "cell_type": "markdown",
   "source": [
    "这样我们就可以画出一维图："
   ],
   "metadata": {}
  },
  {
   "cell_type": "code",
   "execution_count": 22,
   "source": [
    "import matplotlib.pyplot as plt\n",
    "r = ss.coord['x1']  # 半径坐标\n",
    "plt.plot(r, rho1d)\n",
    "plt.yscale('log')\n",
    "plt.show()"
   ],
   "outputs": [
    {
     "output_type": "display_data",
     "data": {
      "text/plain": [
       "<Figure size 432x288 with 1 Axes>"
      ],
      "image/svg+xml": "<?xml version=\"1.0\" encoding=\"utf-8\" standalone=\"no\"?>\n<!DOCTYPE svg PUBLIC \"-//W3C//DTD SVG 1.1//EN\"\n  \"http://www.w3.org/Graphics/SVG/1.1/DTD/svg11.dtd\">\n<svg height=\"248.518125pt\" version=\"1.1\" viewBox=\"0 0 373.8 248.518125\" width=\"373.8pt\" xmlns=\"http://www.w3.org/2000/svg\" xmlns:xlink=\"http://www.w3.org/1999/xlink\">\n <metadata>\n  <rdf:RDF xmlns:cc=\"http://creativecommons.org/ns#\" xmlns:dc=\"http://purl.org/dc/elements/1.1/\" xmlns:rdf=\"http://www.w3.org/1999/02/22-rdf-syntax-ns#\">\n   <cc:Work>\n    <dc:type rdf:resource=\"http://purl.org/dc/dcmitype/StillImage\"/>\n    <dc:date>2021-09-05T02:14:31.598215</dc:date>\n    <dc:format>image/svg+xml</dc:format>\n    <dc:creator>\n     <cc:Agent>\n      <dc:title>Matplotlib v3.4.2, https://matplotlib.org/</dc:title>\n     </cc:Agent>\n    </dc:creator>\n   </cc:Work>\n  </rdf:RDF>\n </metadata>\n <defs>\n  <style type=\"text/css\">*{stroke-linecap:butt;stroke-linejoin:round;}</style>\n </defs>\n <g id=\"figure_1\">\n  <g id=\"patch_1\">\n   <path d=\"M 0 248.518125 \nL 373.8 248.518125 \nL 373.8 0 \nL 0 0 \nz\n\" style=\"fill:none;\"/>\n  </g>\n  <g id=\"axes_1\">\n   <g id=\"patch_2\">\n    <path d=\"M 31.8 224.64 \nL 366.6 224.64 \nL 366.6 7.2 \nL 31.8 7.2 \nz\n\" style=\"fill:#ffffff;\"/>\n   </g>\n   <g id=\"matplotlib.axis_1\">\n    <g id=\"xtick_1\">\n     <g id=\"line2d_1\">\n      <defs>\n       <path d=\"M 0 0 \nL 0 3.5 \n\" id=\"m523250549c\" style=\"stroke:#000000;stroke-width:0.8;\"/>\n      </defs>\n      <g>\n       <use style=\"stroke:#000000;stroke-width:0.8;\" x=\"34.879681\" xlink:href=\"#m523250549c\" y=\"224.64\"/>\n      </g>\n     </g>\n     <g id=\"text_1\">\n      <!-- 0 -->\n      <g transform=\"translate(31.698431 239.238438)scale(0.1 -0.1)\">\n       <defs>\n        <path d=\"M 2034 219 \nQ 2513 219 2750 744 \nQ 2988 1269 2988 2328 \nQ 2988 3391 2750 3916 \nQ 2513 4441 2034 4441 \nQ 1556 4441 1318 3916 \nQ 1081 3391 1081 2328 \nQ 1081 1269 1318 744 \nQ 1556 219 2034 219 \nz\nM 2034 -91 \nQ 1275 -91 848 546 \nQ 422 1184 422 2328 \nQ 422 3475 848 4112 \nQ 1275 4750 2034 4750 \nQ 2797 4750 3222 4112 \nQ 3647 3475 3647 2328 \nQ 3647 1184 3222 546 \nQ 2797 -91 2034 -91 \nz\n\" id=\"DejaVuSerif-30\" transform=\"scale(0.015625)\"/>\n       </defs>\n       <use xlink:href=\"#DejaVuSerif-30\"/>\n      </g>\n     </g>\n    </g>\n    <g id=\"xtick_2\">\n     <g id=\"line2d_2\">\n      <g>\n       <use style=\"stroke:#000000;stroke-width:0.8;\" x=\"87.886235\" xlink:href=\"#m523250549c\" y=\"224.64\"/>\n      </g>\n     </g>\n     <g id=\"text_2\">\n      <!-- 5 -->\n      <g transform=\"translate(84.704985 239.238438)scale(0.1 -0.1)\">\n       <defs>\n        <path d=\"M 3219 4666 \nL 3219 4153 \nL 1081 4153 \nL 1081 2816 \nQ 1244 2928 1461 2984 \nQ 1678 3041 1947 3041 \nQ 2703 3041 3140 2622 \nQ 3578 2203 3578 1478 \nQ 3578 738 3136 323 \nQ 2694 -91 1894 -91 \nQ 1572 -91 1234 -12 \nQ 897 66 544 225 \nL 544 1131 \nL 897 1131 \nQ 925 688 1179 453 \nQ 1434 219 1894 219 \nQ 2388 219 2653 544 \nQ 2919 869 2919 1478 \nQ 2919 2084 2655 2407 \nQ 2391 2731 1894 2731 \nQ 1613 2731 1398 2631 \nQ 1184 2531 1019 2322 \nL 750 2322 \nL 750 4666 \nL 3219 4666 \nz\n\" id=\"DejaVuSerif-35\" transform=\"scale(0.015625)\"/>\n       </defs>\n       <use xlink:href=\"#DejaVuSerif-35\"/>\n      </g>\n     </g>\n    </g>\n    <g id=\"xtick_3\">\n     <g id=\"line2d_3\">\n      <g>\n       <use style=\"stroke:#000000;stroke-width:0.8;\" x=\"140.89279\" xlink:href=\"#m523250549c\" y=\"224.64\"/>\n      </g>\n     </g>\n     <g id=\"text_3\">\n      <!-- 10 -->\n      <g transform=\"translate(134.53029 239.238438)scale(0.1 -0.1)\">\n       <defs>\n        <path d=\"M 909 0 \nL 909 331 \nL 1722 331 \nL 1722 4213 \nL 781 3603 \nL 781 4013 \nL 1919 4750 \nL 2350 4750 \nL 2350 331 \nL 3163 331 \nL 3163 0 \nL 909 0 \nz\n\" id=\"DejaVuSerif-31\" transform=\"scale(0.015625)\"/>\n       </defs>\n       <use xlink:href=\"#DejaVuSerif-31\"/>\n       <use x=\"63.623047\" xlink:href=\"#DejaVuSerif-30\"/>\n      </g>\n     </g>\n    </g>\n    <g id=\"xtick_4\">\n     <g id=\"line2d_4\">\n      <g>\n       <use style=\"stroke:#000000;stroke-width:0.8;\" x=\"193.899345\" xlink:href=\"#m523250549c\" y=\"224.64\"/>\n      </g>\n     </g>\n     <g id=\"text_4\">\n      <!-- 15 -->\n      <g transform=\"translate(187.536845 239.238438)scale(0.1 -0.1)\">\n       <use xlink:href=\"#DejaVuSerif-31\"/>\n       <use x=\"63.623047\" xlink:href=\"#DejaVuSerif-35\"/>\n      </g>\n     </g>\n    </g>\n    <g id=\"xtick_5\">\n     <g id=\"line2d_5\">\n      <g>\n       <use style=\"stroke:#000000;stroke-width:0.8;\" x=\"246.905899\" xlink:href=\"#m523250549c\" y=\"224.64\"/>\n      </g>\n     </g>\n     <g id=\"text_5\">\n      <!-- 20 -->\n      <g transform=\"translate(240.543399 239.238438)scale(0.1 -0.1)\">\n       <defs>\n        <path d=\"M 819 3553 \nL 469 3553 \nL 469 4384 \nQ 803 4563 1142 4656 \nQ 1481 4750 1806 4750 \nQ 2534 4750 2956 4397 \nQ 3378 4044 3378 3438 \nQ 3378 2753 2422 1800 \nQ 2347 1728 2309 1691 \nL 1131 513 \nL 3078 513 \nL 3078 1088 \nL 3444 1088 \nL 3444 0 \nL 434 0 \nL 434 341 \nL 1850 1753 \nQ 2319 2222 2519 2614 \nQ 2719 3006 2719 3438 \nQ 2719 3909 2473 4175 \nQ 2228 4441 1797 4441 \nQ 1350 4441 1106 4219 \nQ 863 3997 819 3553 \nz\n\" id=\"DejaVuSerif-32\" transform=\"scale(0.015625)\"/>\n       </defs>\n       <use xlink:href=\"#DejaVuSerif-32\"/>\n       <use x=\"63.623047\" xlink:href=\"#DejaVuSerif-30\"/>\n      </g>\n     </g>\n    </g>\n    <g id=\"xtick_6\">\n     <g id=\"line2d_6\">\n      <g>\n       <use style=\"stroke:#000000;stroke-width:0.8;\" x=\"299.912454\" xlink:href=\"#m523250549c\" y=\"224.64\"/>\n      </g>\n     </g>\n     <g id=\"text_6\">\n      <!-- 25 -->\n      <g transform=\"translate(293.549954 239.238438)scale(0.1 -0.1)\">\n       <use xlink:href=\"#DejaVuSerif-32\"/>\n       <use x=\"63.623047\" xlink:href=\"#DejaVuSerif-35\"/>\n      </g>\n     </g>\n    </g>\n    <g id=\"xtick_7\">\n     <g id=\"line2d_7\">\n      <g>\n       <use style=\"stroke:#000000;stroke-width:0.8;\" x=\"352.919008\" xlink:href=\"#m523250549c\" y=\"224.64\"/>\n      </g>\n     </g>\n     <g id=\"text_7\">\n      <!-- 30 -->\n      <g transform=\"translate(346.556508 239.238438)scale(0.1 -0.1)\">\n       <defs>\n        <path d=\"M 622 4469 \nQ 988 4606 1323 4678 \nQ 1659 4750 1953 4750 \nQ 2638 4750 3022 4454 \nQ 3406 4159 3406 3634 \nQ 3406 3213 3140 2930 \nQ 2875 2647 2388 2547 \nQ 2963 2466 3280 2130 \nQ 3597 1794 3597 1259 \nQ 3597 606 3158 257 \nQ 2719 -91 1894 -91 \nQ 1528 -91 1179 -12 \nQ 831 66 488 225 \nL 488 1131 \nL 838 1131 \nQ 869 681 1141 450 \nQ 1413 219 1906 219 \nQ 2384 219 2661 495 \nQ 2938 772 2938 1253 \nQ 2938 1803 2653 2086 \nQ 2369 2369 1819 2369 \nL 1522 2369 \nL 1522 2688 \nL 1678 2688 \nQ 2225 2688 2498 2914 \nQ 2772 3141 2772 3597 \nQ 2772 4006 2547 4223 \nQ 2322 4441 1900 4441 \nQ 1478 4441 1245 4241 \nQ 1013 4041 972 3647 \nL 622 3647 \nL 622 4469 \nz\n\" id=\"DejaVuSerif-33\" transform=\"scale(0.015625)\"/>\n       </defs>\n       <use xlink:href=\"#DejaVuSerif-33\"/>\n       <use x=\"63.623047\" xlink:href=\"#DejaVuSerif-30\"/>\n      </g>\n     </g>\n    </g>\n   </g>\n   <g id=\"matplotlib.axis_2\">\n    <g id=\"ytick_1\">\n     <g id=\"line2d_8\">\n      <defs>\n       <path d=\"M 0 0 \nL -3.5 0 \n\" id=\"m11afe665aa\" style=\"stroke:#000000;stroke-width:0.8;\"/>\n      </defs>\n      <g>\n       <use style=\"stroke:#000000;stroke-width:0.8;\" x=\"31.8\" xlink:href=\"#m11afe665aa\" y=\"149.524559\"/>\n      </g>\n     </g>\n     <g id=\"text_8\">\n      <!-- $\\mathdefault{10^{7}}$ -->\n      <g transform=\"translate(7.2 153.323778)scale(0.1 -0.1)\">\n       <defs>\n        <path d=\"M 3609 4347 \nL 1784 0 \nL 1319 0 \nL 3059 4153 \nL 903 4153 \nL 903 3578 \nL 538 3578 \nL 538 4666 \nL 3609 4666 \nL 3609 4347 \nz\n\" id=\"DejaVuSerif-37\" transform=\"scale(0.015625)\"/>\n       </defs>\n       <use transform=\"translate(0 0.63125)\" xlink:href=\"#DejaVuSerif-31\"/>\n       <use transform=\"translate(63.623047 0.63125)\" xlink:href=\"#DejaVuSerif-30\"/>\n       <use transform=\"translate(128.154453 36.965625)scale(0.7)\" xlink:href=\"#DejaVuSerif-37\"/>\n      </g>\n     </g>\n    </g>\n    <g id=\"ytick_2\">\n     <g id=\"line2d_9\">\n      <g>\n       <use style=\"stroke:#000000;stroke-width:0.8;\" x=\"31.8\" xlink:href=\"#m11afe665aa\" y=\"62.28798\"/>\n      </g>\n     </g>\n     <g id=\"text_9\">\n      <!-- $\\mathdefault{10^{8}}$ -->\n      <g transform=\"translate(7.2 66.087199)scale(0.1 -0.1)\">\n       <defs>\n        <path d=\"M 2981 1275 \nQ 2981 1775 2732 2051 \nQ 2484 2328 2034 2328 \nQ 1584 2328 1336 2051 \nQ 1088 1775 1088 1275 \nQ 1088 772 1336 495 \nQ 1584 219 2034 219 \nQ 2484 219 2732 495 \nQ 2981 772 2981 1275 \nz\nM 2853 3541 \nQ 2853 3966 2637 4203 \nQ 2422 4441 2034 4441 \nQ 1650 4441 1433 4203 \nQ 1216 3966 1216 3541 \nQ 1216 3113 1433 2875 \nQ 1650 2638 2034 2638 \nQ 2422 2638 2637 2875 \nQ 2853 3113 2853 3541 \nz\nM 2516 2484 \nQ 3047 2413 3344 2092 \nQ 3641 1772 3641 1275 \nQ 3641 619 3225 264 \nQ 2809 -91 2034 -91 \nQ 1263 -91 845 264 \nQ 428 619 428 1275 \nQ 428 1772 725 2092 \nQ 1022 2413 1556 2484 \nQ 1084 2569 832 2842 \nQ 581 3116 581 3541 \nQ 581 4103 968 4426 \nQ 1356 4750 2034 4750 \nQ 2713 4750 3100 4426 \nQ 3488 4103 3488 3541 \nQ 3488 3116 3236 2842 \nQ 2984 2569 2516 2484 \nz\n\" id=\"DejaVuSerif-38\" transform=\"scale(0.015625)\"/>\n       </defs>\n       <use transform=\"translate(0 0.7125)\" xlink:href=\"#DejaVuSerif-31\"/>\n       <use transform=\"translate(63.623047 0.7125)\" xlink:href=\"#DejaVuSerif-30\"/>\n       <use transform=\"translate(128.154453 37.046875)scale(0.7)\" xlink:href=\"#DejaVuSerif-38\"/>\n      </g>\n     </g>\n    </g>\n    <g id=\"ytick_3\">\n     <g id=\"line2d_10\">\n      <defs>\n       <path d=\"M 0 0 \nL -2 0 \n\" id=\"m4e65eb5056\" style=\"stroke:#000000;stroke-width:0.6;\"/>\n      </defs>\n      <g>\n       <use style=\"stroke:#000000;stroke-width:0.6;\" x=\"31.8\" xlink:href=\"#m4e65eb5056\" y=\"210.500311\"/>\n      </g>\n     </g>\n    </g>\n    <g id=\"ytick_4\">\n     <g id=\"line2d_11\">\n      <g>\n       <use style=\"stroke:#000000;stroke-width:0.6;\" x=\"31.8\" xlink:href=\"#m4e65eb5056\" y=\"195.138712\"/>\n      </g>\n     </g>\n    </g>\n    <g id=\"ytick_5\">\n     <g id=\"line2d_12\">\n      <g>\n       <use style=\"stroke:#000000;stroke-width:0.6;\" x=\"31.8\" xlink:href=\"#m4e65eb5056\" y=\"184.239484\"/>\n      </g>\n     </g>\n    </g>\n    <g id=\"ytick_6\">\n     <g id=\"line2d_13\">\n      <g>\n       <use style=\"stroke:#000000;stroke-width:0.6;\" x=\"31.8\" xlink:href=\"#m4e65eb5056\" y=\"175.785386\"/>\n      </g>\n     </g>\n    </g>\n    <g id=\"ytick_7\">\n     <g id=\"line2d_14\">\n      <g>\n       <use style=\"stroke:#000000;stroke-width:0.6;\" x=\"31.8\" xlink:href=\"#m4e65eb5056\" y=\"168.877885\"/>\n      </g>\n     </g>\n    </g>\n    <g id=\"ytick_8\">\n     <g id=\"line2d_15\">\n      <g>\n       <use style=\"stroke:#000000;stroke-width:0.6;\" x=\"31.8\" xlink:href=\"#m4e65eb5056\" y=\"163.037676\"/>\n      </g>\n     </g>\n    </g>\n    <g id=\"ytick_9\">\n     <g id=\"line2d_16\">\n      <g>\n       <use style=\"stroke:#000000;stroke-width:0.6;\" x=\"31.8\" xlink:href=\"#m4e65eb5056\" y=\"157.978657\"/>\n      </g>\n     </g>\n    </g>\n    <g id=\"ytick_10\">\n     <g id=\"line2d_17\">\n      <g>\n       <use style=\"stroke:#000000;stroke-width:0.6;\" x=\"31.8\" xlink:href=\"#m4e65eb5056\" y=\"153.516286\"/>\n      </g>\n     </g>\n    </g>\n    <g id=\"ytick_11\">\n     <g id=\"line2d_18\">\n      <g>\n       <use style=\"stroke:#000000;stroke-width:0.6;\" x=\"31.8\" xlink:href=\"#m4e65eb5056\" y=\"123.263732\"/>\n      </g>\n     </g>\n    </g>\n    <g id=\"ytick_12\">\n     <g id=\"line2d_19\">\n      <g>\n       <use style=\"stroke:#000000;stroke-width:0.6;\" x=\"31.8\" xlink:href=\"#m4e65eb5056\" y=\"107.902133\"/>\n      </g>\n     </g>\n    </g>\n    <g id=\"ytick_13\">\n     <g id=\"line2d_20\">\n      <g>\n       <use style=\"stroke:#000000;stroke-width:0.6;\" x=\"31.8\" xlink:href=\"#m4e65eb5056\" y=\"97.002905\"/>\n      </g>\n     </g>\n    </g>\n    <g id=\"ytick_14\">\n     <g id=\"line2d_21\">\n      <g>\n       <use style=\"stroke:#000000;stroke-width:0.6;\" x=\"31.8\" xlink:href=\"#m4e65eb5056\" y=\"88.548807\"/>\n      </g>\n     </g>\n    </g>\n    <g id=\"ytick_15\">\n     <g id=\"line2d_22\">\n      <g>\n       <use style=\"stroke:#000000;stroke-width:0.6;\" x=\"31.8\" xlink:href=\"#m4e65eb5056\" y=\"81.641306\"/>\n      </g>\n     </g>\n    </g>\n    <g id=\"ytick_16\">\n     <g id=\"line2d_23\">\n      <g>\n       <use style=\"stroke:#000000;stroke-width:0.6;\" x=\"31.8\" xlink:href=\"#m4e65eb5056\" y=\"75.801097\"/>\n      </g>\n     </g>\n    </g>\n    <g id=\"ytick_17\">\n     <g id=\"line2d_24\">\n      <g>\n       <use style=\"stroke:#000000;stroke-width:0.6;\" x=\"31.8\" xlink:href=\"#m4e65eb5056\" y=\"70.742078\"/>\n      </g>\n     </g>\n    </g>\n    <g id=\"ytick_18\">\n     <g id=\"line2d_25\">\n      <g>\n       <use style=\"stroke:#000000;stroke-width:0.6;\" x=\"31.8\" xlink:href=\"#m4e65eb5056\" y=\"66.279707\"/>\n      </g>\n     </g>\n    </g>\n    <g id=\"ytick_19\">\n     <g id=\"line2d_26\">\n      <g>\n       <use style=\"stroke:#000000;stroke-width:0.6;\" x=\"31.8\" xlink:href=\"#m4e65eb5056\" y=\"36.027153\"/>\n      </g>\n     </g>\n    </g>\n    <g id=\"ytick_20\">\n     <g id=\"line2d_27\">\n      <g>\n       <use style=\"stroke:#000000;stroke-width:0.6;\" x=\"31.8\" xlink:href=\"#m4e65eb5056\" y=\"20.665554\"/>\n      </g>\n     </g>\n    </g>\n    <g id=\"ytick_21\">\n     <g id=\"line2d_28\">\n      <g>\n       <use style=\"stroke:#000000;stroke-width:0.6;\" x=\"31.8\" xlink:href=\"#m4e65eb5056\" y=\"9.766326\"/>\n      </g>\n     </g>\n    </g>\n   </g>\n   <g id=\"line2d_29\">\n    <path clip-path=\"url(#p15bfd163b4)\" d=\"M 47.018182 17.083636 \nL 50.092562 30.76881 \nL 53.166942 41.926327 \nL 56.241322 51.345916 \nL 59.315702 59.496727 \nL 62.390083 66.680336 \nL 65.464463 73.102129 \nL 68.538843 78.908304 \nL 71.613223 84.206636 \nL 74.687603 89.078862 \nL 77.761983 93.588447 \nL 80.836364 97.785654 \nL 83.910744 101.71097 \nL 86.985124 105.397488 \nL 90.059504 108.872604 \nL 93.133884 112.159254 \nL 96.208264 115.276834 \nL 99.282645 118.241889 \nL 102.357025 121.068651 \nL 105.431405 123.769447 \nL 108.505785 126.355026 \nL 111.580165 128.834818 \nL 114.654545 131.21714 \nL 117.728926 133.509365 \nL 120.803306 135.718061 \nL 123.877686 137.849101 \nL 126.952066 139.907762 \nL 130.026446 141.898799 \nL 133.100826 143.826513 \nL 136.175207 145.694809 \nL 139.249587 147.50724 \nL 142.323967 149.267051 \nL 145.398347 150.97721 \nL 148.472727 152.640444 \nL 151.547107 154.259257 \nL 154.621488 155.835963 \nL 157.695868 157.372695 \nL 160.770248 158.871431 \nL 163.844628 160.334003 \nL 166.919008 161.762118 \nL 169.993388 163.15736 \nL 173.067769 164.521209 \nL 176.142149 165.855047 \nL 179.216529 167.160166 \nL 182.290909 168.437776 \nL 185.365289 169.689015 \nL 188.439669 170.914947 \nL 191.51405 172.116577 \nL 194.58843 173.29485 \nL 197.66281 174.450656 \nL 200.73719 175.584835 \nL 203.81157 176.698184 \nL 206.88595 177.791452 \nL 209.960331 178.865351 \nL 213.034711 179.920556 \nL 216.109091 180.957707 \nL 219.183471 181.97741 \nL 222.257851 182.980244 \nL 225.332231 183.966757 \nL 228.406612 184.937472 \nL 231.480992 185.892887 \nL 234.555372 186.833477 \nL 237.629752 187.759695 \nL 240.704132 188.671973 \nL 243.778512 189.570725 \nL 246.852893 190.456347 \nL 249.927273 191.329216 \nL 253.001653 192.189694 \nL 256.076033 193.038128 \nL 259.150413 193.874851 \nL 262.224793 194.700182 \nL 265.299174 195.514427 \nL 268.373554 196.317879 \nL 271.447934 197.110821 \nL 274.522314 197.893524 \nL 277.596694 198.66625 \nL 280.671074 199.429249 \nL 283.745455 200.182764 \nL 286.819835 200.927027 \nL 289.894215 201.662263 \nL 292.968595 202.388688 \nL 296.042975 203.10651 \nL 299.117355 203.815932 \nL 302.191736 204.517148 \nL 305.266116 205.210344 \nL 308.340496 205.895703 \nL 311.414876 206.5734 \nL 314.489256 207.243604 \nL 317.563636 207.906479 \nL 320.638017 208.562184 \nL 323.712397 209.210872 \nL 326.786777 209.852692 \nL 329.861157 210.487787 \nL 332.935537 211.116297 \nL 336.009917 211.738357 \nL 339.084298 212.354099 \nL 342.158678 212.963649 \nL 345.233058 213.567131 \nL 348.307438 214.164663 \nL 351.381818 214.756364 \n\" style=\"fill:none;stroke:#1f77b4;stroke-linecap:square;stroke-width:1.5;\"/>\n   </g>\n   <g id=\"patch_3\">\n    <path d=\"M 31.8 224.64 \nL 31.8 7.2 \n\" style=\"fill:none;stroke:#000000;stroke-linecap:square;stroke-linejoin:miter;stroke-width:0.8;\"/>\n   </g>\n   <g id=\"patch_4\">\n    <path d=\"M 366.6 224.64 \nL 366.6 7.2 \n\" style=\"fill:none;stroke:#000000;stroke-linecap:square;stroke-linejoin:miter;stroke-width:0.8;\"/>\n   </g>\n   <g id=\"patch_5\">\n    <path d=\"M 31.8 224.64 \nL 366.6 224.64 \n\" style=\"fill:none;stroke:#000000;stroke-linecap:square;stroke-linejoin:miter;stroke-width:0.8;\"/>\n   </g>\n   <g id=\"patch_6\">\n    <path d=\"M 31.8 7.2 \nL 366.6 7.2 \n\" style=\"fill:none;stroke:#000000;stroke-linecap:square;stroke-linejoin:miter;stroke-width:0.8;\"/>\n   </g>\n  </g>\n </g>\n <defs>\n  <clipPath id=\"p15bfd163b4\">\n   <rect height=\"217.44\" width=\"334.8\" x=\"31.8\" y=\"7.2\"/>\n  </clipPath>\n </defs>\n</svg>\n",
      "image/png": "[encoded data removed]"
     },
     "metadata": {
      "needs_background": "light"
     }
    }
   ],
   "metadata": {}
  },
  {
   "cell_type": "markdown",
   "source": [
    "同理如果是三维数据需要画二维图像，可以用`.slice2d()`方法来切片"
   ],
   "metadata": {}
  },
  {
   "cell_type": "markdown",
   "source": [
    "## 单位换算\n",
    "\n",
    "前面的数据有个问题：虽然数据都是普通浮点数，但是实际上都是基于模拟的单位，即`code_unit`。可以通过`.in_code_unit()`方法来得到带单位的数据："
   ],
   "metadata": {}
  },
  {
   "cell_type": "code",
   "execution_count": 29,
   "source": [
    "ss.in_code_unit()  # 给予模拟单位\n",
    "x1 = ss.coord['x1']  # 获取坐标\n",
    "print(type(x1))   # 可以看到类型是astropy.units模块下的Quantity\n",
    "print(x1[0].value, x1[0].unit)   # 单位是code_length"
   ],
   "outputs": [
    {
     "output_type": "stream",
     "name": "stdout",
     "text": [
      "<class 'astropy.units.quantity.Quantity'>\n",
      "1.145 code_length\n"
     ]
    }
   ],
   "metadata": {}
  },
  {
   "cell_type": "markdown",
   "source": [
    "也可以使用`.in_astro_unit()`给予常用天文单位："
   ],
   "metadata": {}
  },
  {
   "cell_type": "code",
   "execution_count": 30,
   "source": [
    "ss.in_astro_unit()\n",
    "x1 = ss.coord['x1']\n",
    "print(type(x1))\n",
    "print(x1[0].value, x1[0].unit)   # 单位变成了kpc,并且根据单位进行了换算"
   ],
   "outputs": [
    {
     "output_type": "stream",
     "name": "stdout",
     "text": [
      "<class 'astropy.units.quantity.Quantity'>\n",
      "1.14289322421545 kpc\n"
     ]
    }
   ],
   "metadata": {}
  },
  {
   "cell_type": "markdown",
   "source": [
    "有了单位，为后续的分析提供了很大的方便，计算其他物理量时不容易出错。我们再次画图："
   ],
   "metadata": {}
  },
  {
   "cell_type": "code",
   "execution_count": 32,
   "source": [
    "r = ss.coord['x1']  # 半径坐标\n",
    "rho1d = ss.slice1d('rho', x2=np.pi/2)  # 重新获取密度\n",
    "plt.plot(r, rho1d)\n",
    "plt.yscale('log')\n",
    "plt.show()"
   ],
   "outputs": [
    {
     "output_type": "display_data",
     "data": {
      "text/plain": [
       "<Figure size 432x288 with 1 Axes>"
      ],
      "image/svg+xml": "<?xml version=\"1.0\" encoding=\"utf-8\" standalone=\"no\"?>\n<!DOCTYPE svg PUBLIC \"-//W3C//DTD SVG 1.1//EN\"\n  \"http://www.w3.org/Graphics/SVG/1.1/DTD/svg11.dtd\">\n<svg height=\"262.19625pt\" version=\"1.1\" viewBox=\"0 0 395.3 262.19625\" width=\"395.3pt\" xmlns=\"http://www.w3.org/2000/svg\" xmlns:xlink=\"http://www.w3.org/1999/xlink\">\n <metadata>\n  <rdf:RDF xmlns:cc=\"http://creativecommons.org/ns#\" xmlns:dc=\"http://purl.org/dc/elements/1.1/\" xmlns:rdf=\"http://www.w3.org/1999/02/22-rdf-syntax-ns#\">\n   <cc:Work>\n    <dc:type rdf:resource=\"http://purl.org/dc/dcmitype/StillImage\"/>\n    <dc:date>2021-09-05T02:33:47.846659</dc:date>\n    <dc:format>image/svg+xml</dc:format>\n    <dc:creator>\n     <cc:Agent>\n      <dc:title>Matplotlib v3.4.2, https://matplotlib.org/</dc:title>\n     </cc:Agent>\n    </dc:creator>\n   </cc:Work>\n  </rdf:RDF>\n </metadata>\n <defs>\n  <style type=\"text/css\">*{stroke-linecap:butt;stroke-linejoin:round;}</style>\n </defs>\n <g id=\"figure_1\">\n  <g id=\"patch_1\">\n   <path d=\"M 0 262.19625 \nL 395.3 262.19625 \nL 395.3 0 \nL 0 0 \nz\n\" style=\"fill:none;\"/>\n  </g>\n  <g id=\"axes_1\">\n   <g id=\"patch_2\">\n    <path d=\"M 53.3 224.64 \nL 388.1 224.64 \nL 388.1 7.2 \nL 53.3 7.2 \nz\n\" style=\"fill:#ffffff;\"/>\n   </g>\n   <g id=\"matplotlib.axis_1\">\n    <g id=\"xtick_1\">\n     <g id=\"line2d_1\">\n      <defs>\n       <path d=\"M 0 0 \nL 0 3.5 \n\" id=\"m878f5ee1b0\" style=\"stroke:#000000;stroke-width:0.8;\"/>\n      </defs>\n      <g>\n       <use style=\"stroke:#000000;stroke-width:0.8;\" x=\"56.379681\" xlink:href=\"#m878f5ee1b0\" y=\"224.64\"/>\n      </g>\n     </g>\n     <g id=\"text_1\">\n      <!-- 0 -->\n      <g transform=\"translate(53.198431 239.238438)scale(0.1 -0.1)\">\n       <defs>\n        <path d=\"M 2034 219 \nQ 2513 219 2750 744 \nQ 2988 1269 2988 2328 \nQ 2988 3391 2750 3916 \nQ 2513 4441 2034 4441 \nQ 1556 4441 1318 3916 \nQ 1081 3391 1081 2328 \nQ 1081 1269 1318 744 \nQ 1556 219 2034 219 \nz\nM 2034 -91 \nQ 1275 -91 848 546 \nQ 422 1184 422 2328 \nQ 422 3475 848 4112 \nQ 1275 4750 2034 4750 \nQ 2797 4750 3222 4112 \nQ 3647 3475 3647 2328 \nQ 3647 1184 3222 546 \nQ 2797 -91 2034 -91 \nz\n\" id=\"DejaVuSerif-30\" transform=\"scale(0.015625)\"/>\n       </defs>\n       <use xlink:href=\"#DejaVuSerif-30\"/>\n      </g>\n     </g>\n    </g>\n    <g id=\"xtick_2\">\n     <g id=\"line2d_2\">\n      <g>\n       <use style=\"stroke:#000000;stroke-width:0.8;\" x=\"109.483946\" xlink:href=\"#m878f5ee1b0\" y=\"224.64\"/>\n      </g>\n     </g>\n     <g id=\"text_2\">\n      <!-- 5 -->\n      <g transform=\"translate(106.302696 239.238438)scale(0.1 -0.1)\">\n       <defs>\n        <path d=\"M 3219 4666 \nL 3219 4153 \nL 1081 4153 \nL 1081 2816 \nQ 1244 2928 1461 2984 \nQ 1678 3041 1947 3041 \nQ 2703 3041 3140 2622 \nQ 3578 2203 3578 1478 \nQ 3578 738 3136 323 \nQ 2694 -91 1894 -91 \nQ 1572 -91 1234 -12 \nQ 897 66 544 225 \nL 544 1131 \nL 897 1131 \nQ 925 688 1179 453 \nQ 1434 219 1894 219 \nQ 2388 219 2653 544 \nQ 2919 869 2919 1478 \nQ 2919 2084 2655 2407 \nQ 2391 2731 1894 2731 \nQ 1613 2731 1398 2631 \nQ 1184 2531 1019 2322 \nL 750 2322 \nL 750 4666 \nL 3219 4666 \nz\n\" id=\"DejaVuSerif-35\" transform=\"scale(0.015625)\"/>\n       </defs>\n       <use xlink:href=\"#DejaVuSerif-35\"/>\n      </g>\n     </g>\n    </g>\n    <g id=\"xtick_3\">\n     <g id=\"line2d_3\">\n      <g>\n       <use style=\"stroke:#000000;stroke-width:0.8;\" x=\"162.588211\" xlink:href=\"#m878f5ee1b0\" y=\"224.64\"/>\n      </g>\n     </g>\n     <g id=\"text_3\">\n      <!-- 10 -->\n      <g transform=\"translate(156.225711 239.238438)scale(0.1 -0.1)\">\n       <defs>\n        <path d=\"M 909 0 \nL 909 331 \nL 1722 331 \nL 1722 4213 \nL 781 3603 \nL 781 4013 \nL 1919 4750 \nL 2350 4750 \nL 2350 331 \nL 3163 331 \nL 3163 0 \nL 909 0 \nz\n\" id=\"DejaVuSerif-31\" transform=\"scale(0.015625)\"/>\n       </defs>\n       <use xlink:href=\"#DejaVuSerif-31\"/>\n       <use x=\"63.623047\" xlink:href=\"#DejaVuSerif-30\"/>\n      </g>\n     </g>\n    </g>\n    <g id=\"xtick_4\">\n     <g id=\"line2d_4\">\n      <g>\n       <use style=\"stroke:#000000;stroke-width:0.8;\" x=\"215.692477\" xlink:href=\"#m878f5ee1b0\" y=\"224.64\"/>\n      </g>\n     </g>\n     <g id=\"text_4\">\n      <!-- 15 -->\n      <g transform=\"translate(209.329977 239.238438)scale(0.1 -0.1)\">\n       <use xlink:href=\"#DejaVuSerif-31\"/>\n       <use x=\"63.623047\" xlink:href=\"#DejaVuSerif-35\"/>\n      </g>\n     </g>\n    </g>\n    <g id=\"xtick_5\">\n     <g id=\"line2d_5\">\n      <g>\n       <use style=\"stroke:#000000;stroke-width:0.8;\" x=\"268.796742\" xlink:href=\"#m878f5ee1b0\" y=\"224.64\"/>\n      </g>\n     </g>\n     <g id=\"text_5\">\n      <!-- 20 -->\n      <g transform=\"translate(262.434242 239.238438)scale(0.1 -0.1)\">\n       <defs>\n        <path d=\"M 819 3553 \nL 469 3553 \nL 469 4384 \nQ 803 4563 1142 4656 \nQ 1481 4750 1806 4750 \nQ 2534 4750 2956 4397 \nQ 3378 4044 3378 3438 \nQ 3378 2753 2422 1800 \nQ 2347 1728 2309 1691 \nL 1131 513 \nL 3078 513 \nL 3078 1088 \nL 3444 1088 \nL 3444 0 \nL 434 0 \nL 434 341 \nL 1850 1753 \nQ 2319 2222 2519 2614 \nQ 2719 3006 2719 3438 \nQ 2719 3909 2473 4175 \nQ 2228 4441 1797 4441 \nQ 1350 4441 1106 4219 \nQ 863 3997 819 3553 \nz\n\" id=\"DejaVuSerif-32\" transform=\"scale(0.015625)\"/>\n       </defs>\n       <use xlink:href=\"#DejaVuSerif-32\"/>\n       <use x=\"63.623047\" xlink:href=\"#DejaVuSerif-30\"/>\n      </g>\n     </g>\n    </g>\n    <g id=\"xtick_6\">\n     <g id=\"line2d_6\">\n      <g>\n       <use style=\"stroke:#000000;stroke-width:0.8;\" x=\"321.901007\" xlink:href=\"#m878f5ee1b0\" y=\"224.64\"/>\n      </g>\n     </g>\n     <g id=\"text_6\">\n      <!-- 25 -->\n      <g transform=\"translate(315.538507 239.238438)scale(0.1 -0.1)\">\n       <use xlink:href=\"#DejaVuSerif-32\"/>\n       <use x=\"63.623047\" xlink:href=\"#DejaVuSerif-35\"/>\n      </g>\n     </g>\n    </g>\n    <g id=\"xtick_7\">\n     <g id=\"line2d_7\">\n      <g>\n       <use style=\"stroke:#000000;stroke-width:0.8;\" x=\"375.005273\" xlink:href=\"#m878f5ee1b0\" y=\"224.64\"/>\n      </g>\n     </g>\n     <g id=\"text_7\">\n      <!-- 30 -->\n      <g transform=\"translate(368.642773 239.238438)scale(0.1 -0.1)\">\n       <defs>\n        <path d=\"M 622 4469 \nQ 988 4606 1323 4678 \nQ 1659 4750 1953 4750 \nQ 2638 4750 3022 4454 \nQ 3406 4159 3406 3634 \nQ 3406 3213 3140 2930 \nQ 2875 2647 2388 2547 \nQ 2963 2466 3280 2130 \nQ 3597 1794 3597 1259 \nQ 3597 606 3158 257 \nQ 2719 -91 1894 -91 \nQ 1528 -91 1179 -12 \nQ 831 66 488 225 \nL 488 1131 \nL 838 1131 \nQ 869 681 1141 450 \nQ 1413 219 1906 219 \nQ 2384 219 2661 495 \nQ 2938 772 2938 1253 \nQ 2938 1803 2653 2086 \nQ 2369 2369 1819 2369 \nL 1522 2369 \nL 1522 2688 \nL 1678 2688 \nQ 2225 2688 2498 2914 \nQ 2772 3141 2772 3597 \nQ 2772 4006 2547 4223 \nQ 2322 4441 1900 4441 \nQ 1478 4441 1245 4241 \nQ 1013 4041 972 3647 \nL 622 3647 \nL 622 4469 \nz\n\" id=\"DejaVuSerif-33\" transform=\"scale(0.015625)\"/>\n       </defs>\n       <use xlink:href=\"#DejaVuSerif-33\"/>\n       <use x=\"63.623047\" xlink:href=\"#DejaVuSerif-30\"/>\n      </g>\n     </g>\n    </g>\n    <g id=\"text_8\">\n     <!-- $\\mathrm{kpc}$ -->\n     <g transform=\"translate(213.05 252.916563)scale(0.1 -0.1)\">\n      <defs>\n       <path d=\"M 166 0 \nL 166 225 \nQ 384 225 525 259 \nQ 666 294 666 428 \nL 666 3788 \nQ 666 3959 614 4036 \nQ 563 4113 466 4130 \nQ 369 4147 166 4147 \nL 166 4372 \nL 1113 4441 \nL 1113 1403 \nL 1972 2156 \nQ 2100 2278 2100 2381 \nQ 2100 2456 2047 2495 \nQ 1994 2534 1919 2534 \nL 1919 2759 \nL 3122 2759 \nL 3122 2534 \nQ 2688 2534 2253 2156 \nL 1797 1759 \nL 2613 603 \nQ 2781 363 2895 294 \nQ 3009 225 3272 225 \nL 3272 0 \nL 1997 0 \nL 1997 225 \nQ 2216 225 2216 359 \nQ 2216 456 2100 603 \nL 1484 1478 \nL 1094 1141 \nL 1094 428 \nQ 1094 294 1236 259 \nQ 1378 225 1594 225 \nL 1594 0 \nL 166 0 \nz\n\" id=\"Cmr10-6b\" transform=\"scale(0.015625)\"/>\n       <path d=\"M 166 -1241 \nL 166 -1019 \nQ 384 -1019 525 -981 \nQ 666 -944 666 -813 \nL 666 2272 \nQ 666 2447 541 2490 \nQ 416 2534 166 2534 \nL 166 2759 \nL 1113 2828 \nL 1113 2431 \nQ 1288 2625 1520 2726 \nQ 1753 2828 2016 2828 \nQ 2394 2828 2697 2623 \nQ 3000 2419 3170 2086 \nQ 3341 1753 3341 1381 \nQ 3341 994 3152 659 \nQ 2963 325 2636 126 \nQ 2309 -72 1919 -72 \nQ 1453 -72 1131 306 \nL 1131 -813 \nQ 1131 -944 1273 -981 \nQ 1416 -1019 1631 -1019 \nL 1631 -1241 \nL 166 -1241 \nz\nM 1131 622 \nQ 1244 394 1444 245 \nQ 1644 97 1881 97 \nQ 2103 97 2273 215 \nQ 2444 334 2559 534 \nQ 2675 734 2729 954 \nQ 2784 1175 2784 1381 \nQ 2784 1638 2692 1936 \nQ 2600 2234 2411 2439 \nQ 2222 2644 1953 2644 \nQ 1694 2644 1476 2511 \nQ 1259 2378 1131 2150 \nL 1131 622 \nz\n\" id=\"Cmr10-70\" transform=\"scale(0.015625)\"/>\n       <path d=\"M 1594 -72 \nQ 1206 -72 890 129 \nQ 575 331 394 667 \nQ 213 1003 213 1381 \nQ 213 1759 392 2106 \nQ 572 2453 889 2661 \nQ 1206 2869 1594 2869 \nQ 1969 2869 2276 2722 \nQ 2584 2575 2584 2241 \nQ 2584 2116 2495 2023 \nQ 2406 1931 2278 1931 \nQ 2150 1931 2061 2023 \nQ 1972 2116 1972 2241 \nQ 1972 2353 2044 2436 \nQ 2116 2519 2222 2541 \nQ 2000 2681 1600 2681 \nQ 1294 2681 1106 2478 \nQ 919 2275 844 1975 \nQ 769 1675 769 1381 \nQ 769 1072 861 783 \nQ 953 494 1158 305 \nQ 1363 116 1672 116 \nQ 1975 116 2187 302 \nQ 2400 488 2478 788 \nQ 2478 825 2528 825 \nL 2606 825 \nQ 2625 825 2640 808 \nQ 2656 791 2656 769 \nL 2656 750 \nQ 2559 372 2271 150 \nQ 1984 -72 1594 -72 \nz\n\" id=\"Cmr10-63\" transform=\"scale(0.015625)\"/>\n      </defs>\n      <use transform=\"translate(0 0.609375)\" xlink:href=\"#Cmr10-6b\"/>\n      <use transform=\"translate(52.685547 0.609375)\" xlink:href=\"#Cmr10-70\"/>\n      <use transform=\"translate(108.203125 0.609375)\" xlink:href=\"#Cmr10-63\"/>\n     </g>\n    </g>\n   </g>\n   <g id=\"matplotlib.axis_2\">\n    <g id=\"ytick_1\">\n     <g id=\"line2d_8\">\n      <defs>\n       <path d=\"M 0 0 \nL -3.5 0 \n\" id=\"mbddd85626e\" style=\"stroke:#000000;stroke-width:0.8;\"/>\n      </defs>\n      <g>\n       <use style=\"stroke:#000000;stroke-width:0.8;\" x=\"53.3\" xlink:href=\"#mbddd85626e\" y=\"169.013013\"/>\n      </g>\n     </g>\n     <g id=\"text_9\">\n      <!-- $\\mathdefault{10^{-17}}$ -->\n      <g transform=\"translate(21.9 172.812232)scale(0.1 -0.1)\">\n       <defs>\n        <path d=\"M 281 1959 \nL 1881 1959 \nL 1881 1472 \nL 281 1472 \nL 281 1959 \nz\n\" id=\"DejaVuSerif-2d\" transform=\"scale(0.015625)\"/>\n        <path d=\"M 3609 4347 \nL 1784 0 \nL 1319 0 \nL 3059 4153 \nL 903 4153 \nL 903 3578 \nL 538 3578 \nL 538 4666 \nL 3609 4666 \nL 3609 4347 \nz\n\" id=\"DejaVuSerif-37\" transform=\"scale(0.015625)\"/>\n       </defs>\n       <use transform=\"translate(0 0.7125)\" xlink:href=\"#DejaVuSerif-31\"/>\n       <use transform=\"translate(63.623047 0.7125)\" xlink:href=\"#DejaVuSerif-30\"/>\n       <use transform=\"translate(128.154453 37.046875)scale(0.7)\" xlink:href=\"#DejaVuSerif-2d\"/>\n       <use transform=\"translate(151.806797 37.046875)scale(0.7)\" xlink:href=\"#DejaVuSerif-31\"/>\n       <use transform=\"translate(196.34293 37.046875)scale(0.7)\" xlink:href=\"#DejaVuSerif-37\"/>\n      </g>\n     </g>\n    </g>\n    <g id=\"ytick_2\">\n     <g id=\"line2d_9\">\n      <g>\n       <use style=\"stroke:#000000;stroke-width:0.8;\" x=\"53.3\" xlink:href=\"#mbddd85626e\" y=\"81.776434\"/>\n      </g>\n     </g>\n     <g id=\"text_10\">\n      <!-- $\\mathdefault{10^{-16}}$ -->\n      <g transform=\"translate(21.9 85.575652)scale(0.1 -0.1)\">\n       <defs>\n        <path d=\"M 2094 219 \nQ 2534 219 2771 542 \nQ 3009 866 3009 1472 \nQ 3009 2078 2771 2401 \nQ 2534 2725 2094 2725 \nQ 1647 2725 1412 2412 \nQ 1178 2100 1178 1509 \nQ 1178 888 1415 553 \nQ 1653 219 2094 219 \nz\nM 1075 2569 \nQ 1288 2803 1556 2918 \nQ 1825 3034 2163 3034 \nQ 2859 3034 3264 2615 \nQ 3669 2197 3669 1472 \nQ 3669 763 3233 336 \nQ 2797 -91 2069 -91 \nQ 1278 -91 853 498 \nQ 428 1088 428 2181 \nQ 428 3406 931 4078 \nQ 1434 4750 2350 4750 \nQ 2597 4750 2869 4703 \nQ 3141 4656 3425 4563 \nL 3425 3794 \nL 3072 3794 \nQ 3034 4109 2831 4275 \nQ 2628 4441 2284 4441 \nQ 1678 4441 1381 3981 \nQ 1084 3522 1075 2569 \nz\n\" id=\"DejaVuSerif-36\" transform=\"scale(0.015625)\"/>\n       </defs>\n       <use transform=\"translate(0 0.7125)\" xlink:href=\"#DejaVuSerif-31\"/>\n       <use transform=\"translate(63.623047 0.7125)\" xlink:href=\"#DejaVuSerif-30\"/>\n       <use transform=\"translate(128.154453 37.046875)scale(0.7)\" xlink:href=\"#DejaVuSerif-2d\"/>\n       <use transform=\"translate(151.806797 37.046875)scale(0.7)\" xlink:href=\"#DejaVuSerif-31\"/>\n       <use transform=\"translate(196.34293 37.046875)scale(0.7)\" xlink:href=\"#DejaVuSerif-36\"/>\n      </g>\n     </g>\n    </g>\n    <g id=\"ytick_3\">\n     <g id=\"line2d_10\">\n      <defs>\n       <path d=\"M 0 0 \nL -2 0 \n\" id=\"maa262ad563\" style=\"stroke:#000000;stroke-width:0.6;\"/>\n      </defs>\n      <g>\n       <use style=\"stroke:#000000;stroke-width:0.6;\" x=\"53.3\" xlink:href=\"#maa262ad563\" y=\"214.627166\"/>\n      </g>\n     </g>\n    </g>\n    <g id=\"ytick_4\">\n     <g id=\"line2d_11\">\n      <g>\n       <use style=\"stroke:#000000;stroke-width:0.6;\" x=\"53.3\" xlink:href=\"#maa262ad563\" y=\"203.727938\"/>\n      </g>\n     </g>\n    </g>\n    <g id=\"ytick_5\">\n     <g id=\"line2d_12\">\n      <g>\n       <use style=\"stroke:#000000;stroke-width:0.6;\" x=\"53.3\" xlink:href=\"#maa262ad563\" y=\"195.27384\"/>\n      </g>\n     </g>\n    </g>\n    <g id=\"ytick_6\">\n     <g id=\"line2d_13\">\n      <g>\n       <use style=\"stroke:#000000;stroke-width:0.6;\" x=\"53.3\" xlink:href=\"#maa262ad563\" y=\"188.366339\"/>\n      </g>\n     </g>\n    </g>\n    <g id=\"ytick_7\">\n     <g id=\"line2d_14\">\n      <g>\n       <use style=\"stroke:#000000;stroke-width:0.6;\" x=\"53.3\" xlink:href=\"#maa262ad563\" y=\"182.52613\"/>\n      </g>\n     </g>\n    </g>\n    <g id=\"ytick_8\">\n     <g id=\"line2d_15\">\n      <g>\n       <use style=\"stroke:#000000;stroke-width:0.6;\" x=\"53.3\" xlink:href=\"#maa262ad563\" y=\"177.467111\"/>\n      </g>\n     </g>\n    </g>\n    <g id=\"ytick_9\">\n     <g id=\"line2d_16\">\n      <g>\n       <use style=\"stroke:#000000;stroke-width:0.6;\" x=\"53.3\" xlink:href=\"#maa262ad563\" y=\"173.00474\"/>\n      </g>\n     </g>\n    </g>\n    <g id=\"ytick_10\">\n     <g id=\"line2d_17\">\n      <g>\n       <use style=\"stroke:#000000;stroke-width:0.6;\" x=\"53.3\" xlink:href=\"#maa262ad563\" y=\"142.752186\"/>\n      </g>\n     </g>\n    </g>\n    <g id=\"ytick_11\">\n     <g id=\"line2d_18\">\n      <g>\n       <use style=\"stroke:#000000;stroke-width:0.6;\" x=\"53.3\" xlink:href=\"#maa262ad563\" y=\"127.390587\"/>\n      </g>\n     </g>\n    </g>\n    <g id=\"ytick_12\">\n     <g id=\"line2d_19\">\n      <g>\n       <use style=\"stroke:#000000;stroke-width:0.6;\" x=\"53.3\" xlink:href=\"#maa262ad563\" y=\"116.491359\"/>\n      </g>\n     </g>\n    </g>\n    <g id=\"ytick_13\">\n     <g id=\"line2d_20\">\n      <g>\n       <use style=\"stroke:#000000;stroke-width:0.6;\" x=\"53.3\" xlink:href=\"#maa262ad563\" y=\"108.037261\"/>\n      </g>\n     </g>\n    </g>\n    <g id=\"ytick_14\">\n     <g id=\"line2d_21\">\n      <g>\n       <use style=\"stroke:#000000;stroke-width:0.6;\" x=\"53.3\" xlink:href=\"#maa262ad563\" y=\"101.12976\"/>\n      </g>\n     </g>\n    </g>\n    <g id=\"ytick_15\">\n     <g id=\"line2d_22\">\n      <g>\n       <use style=\"stroke:#000000;stroke-width:0.6;\" x=\"53.3\" xlink:href=\"#maa262ad563\" y=\"95.289551\"/>\n      </g>\n     </g>\n    </g>\n    <g id=\"ytick_16\">\n     <g id=\"line2d_23\">\n      <g>\n       <use style=\"stroke:#000000;stroke-width:0.6;\" x=\"53.3\" xlink:href=\"#maa262ad563\" y=\"90.230532\"/>\n      </g>\n     </g>\n    </g>\n    <g id=\"ytick_17\">\n     <g id=\"line2d_24\">\n      <g>\n       <use style=\"stroke:#000000;stroke-width:0.6;\" x=\"53.3\" xlink:href=\"#maa262ad563\" y=\"85.768161\"/>\n      </g>\n     </g>\n    </g>\n    <g id=\"ytick_18\">\n     <g id=\"line2d_25\">\n      <g>\n       <use style=\"stroke:#000000;stroke-width:0.6;\" x=\"53.3\" xlink:href=\"#maa262ad563\" y=\"55.515607\"/>\n      </g>\n     </g>\n    </g>\n    <g id=\"ytick_19\">\n     <g id=\"line2d_26\">\n      <g>\n       <use style=\"stroke:#000000;stroke-width:0.6;\" x=\"53.3\" xlink:href=\"#maa262ad563\" y=\"40.154007\"/>\n      </g>\n     </g>\n    </g>\n    <g id=\"ytick_20\">\n     <g id=\"line2d_27\">\n      <g>\n       <use style=\"stroke:#000000;stroke-width:0.6;\" x=\"53.3\" xlink:href=\"#maa262ad563\" y=\"29.254779\"/>\n      </g>\n     </g>\n    </g>\n    <g id=\"ytick_21\">\n     <g id=\"line2d_28\">\n      <g>\n       <use style=\"stroke:#000000;stroke-width:0.6;\" x=\"53.3\" xlink:href=\"#maa262ad563\" y=\"20.800681\"/>\n      </g>\n     </g>\n    </g>\n    <g id=\"ytick_22\">\n     <g id=\"line2d_29\">\n      <g>\n       <use style=\"stroke:#000000;stroke-width:0.6;\" x=\"53.3\" xlink:href=\"#maa262ad563\" y=\"13.89318\"/>\n      </g>\n     </g>\n    </g>\n    <g id=\"ytick_23\">\n     <g id=\"line2d_30\">\n      <g>\n       <use style=\"stroke:#000000;stroke-width:0.6;\" x=\"53.3\" xlink:href=\"#maa262ad563\" y=\"8.052971\"/>\n      </g>\n     </g>\n    </g>\n    <g id=\"text_11\">\n     <!-- $\\mathrm{g\\,cm^{-3}}$ -->\n     <g transform=\"translate(15.8 130.57)rotate(-90)scale(0.1 -0.1)\">\n      <defs>\n       <path d=\"M 178 -500 \nQ 178 -272 343 -101 \nQ 509 69 738 141 \nQ 609 238 542 384 \nQ 475 531 475 697 \nQ 475 997 666 1228 \nQ 372 1516 372 1888 \nQ 372 2088 458 2263 \nQ 544 2438 697 2566 \nQ 850 2694 1037 2761 \nQ 1225 2828 1422 2828 \nQ 1803 2828 2106 2606 \nQ 2238 2747 2417 2823 \nQ 2597 2900 2791 2900 \nQ 2928 2900 3015 2801 \nQ 3103 2703 3103 2566 \nQ 3103 2488 3043 2428 \nQ 2984 2369 2906 2369 \nQ 2825 2369 2765 2428 \nQ 2706 2488 2706 2566 \nQ 2706 2684 2784 2731 \nQ 2453 2731 2216 2503 \nQ 2331 2388 2401 2220 \nQ 2472 2053 2472 1888 \nQ 2472 1616 2322 1398 \nQ 2172 1181 1926 1061 \nQ 1681 941 1422 941 \nQ 1072 941 781 1131 \nQ 691 1006 691 850 \nQ 691 681 802 554 \nQ 913 428 1081 428 \nL 1606 428 \nQ 1988 428 2294 359 \nQ 2600 291 2808 84 \nQ 3016 -122 3016 -500 \nQ 3016 -781 2778 -967 \nQ 2541 -1153 2211 -1236 \nQ 1881 -1319 1600 -1319 \nQ 1316 -1319 984 -1236 \nQ 653 -1153 415 -967 \nQ 178 -781 178 -500 \nz\nM 538 -500 \nQ 538 -716 713 -861 \nQ 888 -1006 1134 -1076 \nQ 1381 -1147 1600 -1147 \nQ 1816 -1147 2062 -1076 \nQ 2309 -1006 2482 -861 \nQ 2656 -716 2656 -500 \nQ 2656 -166 2350 -67 \nQ 2044 31 1606 31 \nL 1081 31 \nQ 934 31 811 -39 \nQ 688 -109 613 -236 \nQ 538 -363 538 -500 \nz\nM 1422 1113 \nQ 1966 1113 1966 1888 \nQ 1966 2222 1850 2439 \nQ 1734 2656 1422 2656 \nQ 1109 2656 993 2439 \nQ 878 2222 878 1888 \nQ 878 1675 922 1503 \nQ 966 1331 1084 1222 \nQ 1203 1113 1422 1113 \nz\n\" id=\"Cmr10-67\" transform=\"scale(0.015625)\"/>\n       <path d=\"M 191 0 \nL 191 225 \nQ 409 225 550 259 \nQ 691 294 691 428 \nL 691 2175 \nQ 691 2347 639 2423 \nQ 588 2500 491 2517 \nQ 394 2534 191 2534 \nL 191 2759 \nL 1119 2828 \nL 1119 2203 \nQ 1247 2478 1498 2653 \nQ 1750 2828 2047 2828 \nQ 2784 2828 2913 2228 \nQ 3041 2497 3287 2662 \nQ 3534 2828 3828 2828 \nQ 4119 2828 4317 2734 \nQ 4516 2641 4616 2448 \nQ 4716 2256 4716 1966 \nL 4716 428 \nQ 4716 294 4858 259 \nQ 5000 225 5216 225 \nL 5216 0 \nL 3750 0 \nL 3750 225 \nQ 3969 225 4109 259 \nQ 4250 294 4250 428 \nL 4250 1947 \nQ 4250 2269 4159 2466 \nQ 4069 2663 3788 2663 \nQ 3419 2663 3178 2366 \nQ 2938 2069 2938 1691 \nL 2938 428 \nQ 2938 294 3078 259 \nQ 3219 225 3438 225 \nL 3438 0 \nL 1972 0 \nL 1972 225 \nQ 2191 225 2331 259 \nQ 2472 294 2472 428 \nL 2472 1947 \nQ 2472 2259 2381 2461 \nQ 2291 2663 2009 2663 \nQ 1638 2663 1398 2366 \nQ 1159 2069 1159 1691 \nL 1159 428 \nQ 1159 294 1300 259 \nQ 1441 225 1656 225 \nL 1656 0 \nL 191 0 \nz\n\" id=\"Cmr10-6d\" transform=\"scale(0.015625)\"/>\n       <path d=\"M 653 1472 \nQ 600 1472 565 1512 \nQ 531 1553 531 1600 \nQ 531 1647 565 1687 \nQ 600 1728 653 1728 \nL 4325 1728 \nQ 4375 1728 4408 1687 \nQ 4441 1647 4441 1600 \nQ 4441 1553 4408 1512 \nQ 4375 1472 4325 1472 \nL 653 1472 \nz\n\" id=\"Cmsy10-a1\" transform=\"scale(0.015625)\"/>\n       <path d=\"M 609 494 \nQ 759 275 1012 169 \nQ 1266 63 1556 63 \nQ 1928 63 2084 380 \nQ 2241 697 2241 1100 \nQ 2241 1281 2208 1462 \nQ 2175 1644 2097 1800 \nQ 2019 1956 1883 2050 \nQ 1747 2144 1550 2144 \nL 1125 2144 \nQ 1069 2144 1069 2203 \nL 1069 2259 \nQ 1069 2309 1125 2309 \nL 1478 2338 \nQ 1703 2338 1851 2506 \nQ 2000 2675 2069 2917 \nQ 2138 3159 2138 3378 \nQ 2138 3684 1994 3881 \nQ 1850 4078 1556 4078 \nQ 1313 4078 1091 3986 \nQ 869 3894 738 3706 \nQ 750 3709 759 3711 \nQ 769 3713 781 3713 \nQ 925 3713 1022 3613 \nQ 1119 3513 1119 3372 \nQ 1119 3234 1022 3134 \nQ 925 3034 781 3034 \nQ 641 3034 541 3134 \nQ 441 3234 441 3372 \nQ 441 3647 606 3850 \nQ 772 4053 1033 4158 \nQ 1294 4263 1556 4263 \nQ 1750 4263 1965 4205 \nQ 2181 4147 2356 4039 \nQ 2531 3931 2642 3762 \nQ 2753 3594 2753 3378 \nQ 2753 3109 2633 2881 \nQ 2513 2653 2303 2487 \nQ 2094 2322 1844 2241 \nQ 2122 2188 2372 2031 \nQ 2622 1875 2773 1631 \nQ 2925 1388 2925 1106 \nQ 2925 753 2731 467 \nQ 2538 181 2222 20 \nQ 1906 -141 1556 -141 \nQ 1256 -141 954 -26 \nQ 653 88 461 316 \nQ 269 544 269 863 \nQ 269 1022 375 1128 \nQ 481 1234 641 1234 \nQ 744 1234 830 1186 \nQ 916 1138 964 1050 \nQ 1013 963 1013 863 \nQ 1013 706 903 600 \nQ 794 494 641 494 \nL 609 494 \nz\n\" id=\"Cmr10-33\" transform=\"scale(0.015625)\"/>\n      </defs>\n      <use transform=\"translate(0 0.223438)\" xlink:href=\"#Cmr10-67\"/>\n      <use transform=\"translate(63.883741 0.223438)\" xlink:href=\"#Cmr10-63\"/>\n      <use transform=\"translate(108.268507 0.223438)\" xlink:href=\"#Cmr10-6d\"/>\n      <use transform=\"translate(196.136788 39.373438)scale(0.7)\" xlink:href=\"#Cmsy10-a1\"/>\n      <use transform=\"translate(250.516671 39.373438)scale(0.7)\" xlink:href=\"#Cmr10-33\"/>\n     </g>\n    </g>\n   </g>\n   <g id=\"line2d_31\">\n    <path clip-path=\"url(#pe0d5d34c4a)\" d=\"M 68.518182 17.083636 \nL 71.592562 30.76881 \nL 74.666942 41.926327 \nL 77.741322 51.345916 \nL 80.815702 59.496727 \nL 83.890083 66.680336 \nL 86.964463 73.102129 \nL 90.038843 78.908304 \nL 93.113223 84.206636 \nL 96.187603 89.078862 \nL 99.261983 93.588447 \nL 102.336364 97.785654 \nL 105.410744 101.71097 \nL 108.485124 105.397488 \nL 111.559504 108.872604 \nL 114.633884 112.159254 \nL 117.708264 115.276834 \nL 120.782645 118.241889 \nL 123.857025 121.068651 \nL 126.931405 123.769447 \nL 130.005785 126.355026 \nL 133.080165 128.834818 \nL 136.154545 131.21714 \nL 139.228926 133.509365 \nL 142.303306 135.718061 \nL 145.377686 137.849101 \nL 148.452066 139.907762 \nL 151.526446 141.898799 \nL 154.600826 143.826513 \nL 157.675207 145.694809 \nL 160.749587 147.50724 \nL 163.823967 149.267051 \nL 166.898347 150.97721 \nL 169.972727 152.640444 \nL 173.047107 154.259257 \nL 176.121488 155.835963 \nL 179.195868 157.372695 \nL 182.270248 158.871431 \nL 185.344628 160.334003 \nL 188.419008 161.762118 \nL 191.493388 163.15736 \nL 194.567769 164.521209 \nL 197.642149 165.855047 \nL 200.716529 167.160166 \nL 203.790909 168.437776 \nL 206.865289 169.689015 \nL 209.939669 170.914947 \nL 213.01405 172.116577 \nL 216.08843 173.29485 \nL 219.16281 174.450656 \nL 222.23719 175.584835 \nL 225.31157 176.698184 \nL 228.38595 177.791452 \nL 231.460331 178.865351 \nL 234.534711 179.920556 \nL 237.609091 180.957707 \nL 240.683471 181.97741 \nL 243.757851 182.980244 \nL 246.832231 183.966757 \nL 249.906612 184.937472 \nL 252.980992 185.892887 \nL 256.055372 186.833477 \nL 259.129752 187.759695 \nL 262.204132 188.671973 \nL 265.278512 189.570725 \nL 268.352893 190.456347 \nL 271.427273 191.329216 \nL 274.501653 192.189694 \nL 277.576033 193.038128 \nL 280.650413 193.874851 \nL 283.724793 194.700182 \nL 286.799174 195.514427 \nL 289.873554 196.317879 \nL 292.947934 197.110821 \nL 296.022314 197.893524 \nL 299.096694 198.66625 \nL 302.171074 199.429249 \nL 305.245455 200.182764 \nL 308.319835 200.927027 \nL 311.394215 201.662263 \nL 314.468595 202.388688 \nL 317.542975 203.10651 \nL 320.617355 203.815932 \nL 323.691736 204.517148 \nL 326.766116 205.210344 \nL 329.840496 205.895703 \nL 332.914876 206.5734 \nL 335.989256 207.243604 \nL 339.063636 207.906479 \nL 342.138017 208.562184 \nL 345.212397 209.210872 \nL 348.286777 209.852692 \nL 351.361157 210.487787 \nL 354.435537 211.116297 \nL 357.509917 211.738357 \nL 360.584298 212.354099 \nL 363.658678 212.963649 \nL 366.733058 213.567131 \nL 369.807438 214.164663 \nL 372.881818 214.756364 \n\" style=\"fill:none;stroke:#1f77b4;stroke-linecap:square;stroke-width:1.5;\"/>\n   </g>\n   <g id=\"patch_3\">\n    <path d=\"M 53.3 224.64 \nL 53.3 7.2 \n\" style=\"fill:none;stroke:#000000;stroke-linecap:square;stroke-linejoin:miter;stroke-width:0.8;\"/>\n   </g>\n   <g id=\"patch_4\">\n    <path d=\"M 388.1 224.64 \nL 388.1 7.2 \n\" style=\"fill:none;stroke:#000000;stroke-linecap:square;stroke-linejoin:miter;stroke-width:0.8;\"/>\n   </g>\n   <g id=\"patch_5\">\n    <path d=\"M 53.3 224.64 \nL 388.1 224.64 \n\" style=\"fill:none;stroke:#000000;stroke-linecap:square;stroke-linejoin:miter;stroke-width:0.8;\"/>\n   </g>\n   <g id=\"patch_6\">\n    <path d=\"M 53.3 7.2 \nL 388.1 7.2 \n\" style=\"fill:none;stroke:#000000;stroke-linecap:square;stroke-linejoin:miter;stroke-width:0.8;\"/>\n   </g>\n  </g>\n </g>\n <defs>\n  <clipPath id=\"pe0d5d34c4a\">\n   <rect height=\"217.44\" width=\"334.8\" x=\"53.3\" y=\"7.2\"/>\n  </clipPath>\n </defs>\n</svg>\n",
      "image/png": "[encoded data removed]"
     },
     "metadata": {
      "needs_background": "light"
     }
    }
   ],
   "metadata": {}
  },
  {
   "cell_type": "markdown",
   "source": [
    "也可以进一步进行单位换算："
   ],
   "metadata": {}
  },
  {
   "cell_type": "code",
   "execution_count": 35,
   "source": [
    "import astropy.units as u\n",
    "# 详情见：https://docs.astropy.org/en/stable/units/quantity.html#converting-to-different-units\n",
    "print(rho1d[0].value,rho1d[0].unit)\n",
    "rho1d = rho1d.to(u.Msun/u.kpc**3)\n",
    "print(rho1d[0].value,rho1d[0].unit)"
   ],
   "outputs": [
    {
     "output_type": "stream",
     "name": "stdout",
     "text": [
      "5.515422599758377e-16 g / cm3\n",
      "8149379071266328.0 solMass / kpc3\n"
     ]
    }
   ],
   "metadata": {}
  }
 ],
 "metadata": {
  "orig_nbformat": 4,
  "language_info": {
   "name": "python",
   "version": "3.7.6",
   "mimetype": "text/x-python",
   "codemirror_mode": {
    "name": "ipython",
    "version": 3
   },
   "pygments_lexer": "ipython3",
   "nbconvert_exporter": "python",
   "file_extension": ".py"
  },
  "kernelspec": {
   "name": "python3",
   "display_name": "Python 3.7.6 64-bit ('base': conda)"
  },
  "interpreter": {
   "hash": "132f42053498b850c497127f4a2dda714e6b46dd8408d4fb454dd82b8f6f646e"
  }
 },
 "nbformat": 4,
 "nbformat_minor": 2
}